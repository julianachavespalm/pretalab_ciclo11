{
  "nbformat": 4,
  "nbformat_minor": 0,
  "metadata": {
    "colab": {
      "provenance": [],
      "authorship_tag": "ABX9TyMc8l/NtehQVI1O40b0xDtP",
      "include_colab_link": true
    },
    "kernelspec": {
      "name": "python3",
      "display_name": "Python 3"
    },
    "language_info": {
      "name": "python"
    }
  },
  "cells": [
    {
      "cell_type": "markdown",
      "metadata": {
        "id": "view-in-github",
        "colab_type": "text"
      },
      "source": [
        "<a href=\"https://colab.research.google.com/github/julianachavespalm/pretalab_ciclo11/blob/main/Exercicio_Final.ipynb\" target=\"_parent\"><img src=\"https://colab.research.google.com/assets/colab-badge.svg\" alt=\"Open In Colab\"/></a>"
      ]
    },
    {
      "cell_type": "code",
      "source": [
        "def medalha(tipo_de_medalha):\n",
        "    while True:\n",
        "        try:\n",
        "            num_medalhas = int(input(f'Digite o número de medalhas de {tipo_de_medalha}: '))\n",
        "            return num_medalhas\n",
        "        except ValueError:\n",
        "            print(f'Entrada inválida para medalhas de {tipo_de_medalha}. Informe apenas números.')\n",
        "\n",
        "def obter_criterios_desempate(item):\n",
        "    # ouro, prata, bronze\n",
        "    return item[2], item[3], item[4]\n",
        "\n",
        "def quadro_de_medalhas():\n",
        "    resultados = []\n",
        "\n",
        "    while True:\n",
        "        pais = input('\\nDigite o nome do país (ou \"sair\" para encerrar): ')\n",
        "        if pais.lower() == 'sair':\n",
        "            break\n",
        "\n",
        "        ouro = medalha('ouro')\n",
        "        prata = medalha('prata')\n",
        "        bronze = medalha('bronze')\n",
        "\n",
        "        total_medalhas = ouro + prata + bronze\n",
        "        resultados.append((pais, total_medalhas, ouro, prata, bronze))\n",
        "\n",
        "    resultados_ordenados = sorted(resultados, key=obter_criterios_desempate, reverse=True)\n",
        "\n",
        "    print('''\n",
        "RANKING DE MEDALHAS\n",
        "Critérios:\n",
        "•    O quadro será classificado primeiramente pelo maior número de medalhas de ouro.\n",
        "•    Se dois ou mais países tiverem o mesmo número de medalhas de ouro, o desempate será feito pelo número maior de medalhas de prata.\n",
        "•    Caso o empate continue após a comparação das medalhas de prata, o critério final será o maior número de medalhas de bronze.\n",
        "    ''')\n",
        "\n",
        "    for posicao, (pais, total, ouro, prata, bronze) in enumerate(resultados_ordenados):\n",
        "        print(f'{posicao + 1}. {pais}, Total: {total}, Ouro: {ouro}, Prata: {prata}, Bronze: {bronze}')\n",
        "\n",
        "quadro_de_medalhas()"
      ],
      "metadata": {
        "colab": {
          "base_uri": "https://localhost:8080/"
        },
        "id": "x2ZF-tUNvuKe",
        "outputId": "3ad0f1d6-bc13-4c34-9fe4-214b321ce1de"
      },
      "execution_count": 19,
      "outputs": [
        {
          "output_type": "stream",
          "name": "stdout",
          "text": [
            "\n",
            "Digite o nome do país (ou \"sair\" para encerrar): Brasil\n",
            "Digite o número de medalhas de ouro: 1\n",
            "Digite o número de medalhas de prata: 0\n",
            "Digite o número de medalhas de bronze: 0\n",
            "\n",
            "Digite o nome do país (ou \"sair\" para encerrar): Estados Unidos da América\n",
            "Digite o número de medalhas de ouro: 0\n",
            "Digite o número de medalhas de prata: 12\n",
            "Digite o número de medalhas de bronze: 0\n",
            "\n",
            "Digite o nome do país (ou \"sair\" para encerrar): Angola\n",
            "Digite o número de medalhas de ouro: 12\n",
            "Digite o número de medalhas de prata: 0\n",
            "Digite o número de medalhas de bronze: 0\n",
            "\n",
            "Digite o nome do país (ou \"sair\" para encerrar): sair\n",
            "\n",
            "RANKING DE MEDALHAS\n",
            "Critérios:\n",
            "•    O quadro será classificado primeiramente pelo maior número de medalhas de ouro.\n",
            "•    Se dois ou mais países tiverem o mesmo número de medalhas de ouro, o desempate será feito pelo número maior de medalhas de prata.\n",
            "•    Caso o empate continue após a comparação das medalhas de prata, o critério final será o maior número de medalhas de bronze.\n",
            "    \n",
            "1. Angola, Total: 12, Ouro: 12, Prata: 0, Bronze: 0\n",
            "2. Brasil, Total: 1, Ouro: 1, Prata: 0, Bronze: 0\n",
            "3. Estados Unidos da América, Total: 12, Ouro: 0, Prata: 12, Bronze: 0\n"
          ]
        }
      ]
    }
  ]
}